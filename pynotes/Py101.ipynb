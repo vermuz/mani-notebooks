{
 "cells": [
  {
   "cell_type": "markdown",
   "metadata": {},
   "source": [
    "# Python Comprehensions"
   ]
  },
  {
   "cell_type": "code",
   "execution_count": 4,
   "metadata": {},
   "outputs": [
    {
     "name": "stdout",
     "output_type": "stream",
     "text": [
      "[0, 1, 2, 3, 4]\n"
     ]
    }
   ],
   "source": [
    "x = [i for i in range(5)]\n",
    "print(x)"
   ]
  },
  {
   "cell_type": "code",
   "execution_count": 6,
   "metadata": {},
   "outputs": [
    {
     "name": "stdout",
     "output_type": "stream",
     "text": [
      "[1, 2, 3, 4, 5]\n"
     ]
    }
   ],
   "source": [
    "# String to int conversion\n",
    "x = ['1', '2', '3', '4', '5']\n",
    "y = [int(i) for i in x]\n",
    "print(y)    "
   ]
  },
  {
   "cell_type": "code",
   "execution_count": 8,
   "metadata": {},
   "outputs": [
    {
     "name": "stdout",
     "output_type": "stream",
     "text": [
      "[1, 2, 3, 4, 5, 6, 7, 8, 9]\n"
     ]
    }
   ],
   "source": [
    "# Nested example\n",
    "mat = [[1,2,3], [4,5,6], [7,8,9]]\n",
    "print([num for val in mat for num in val])"
   ]
  },
  {
   "cell_type": "markdown",
   "metadata": {},
   "source": [
    "## Dictionary Comprehensions"
   ]
  },
  {
   "cell_type": "code",
   "execution_count": 9,
   "metadata": {},
   "outputs": [
    {
     "name": "stdout",
     "output_type": "stream",
     "text": [
      "{0: '0', 1: '1', 2: '2', 3: '3', 4: '4'}\n"
     ]
    }
   ],
   "source": [
    "# Integer key and string value\n",
    "print( {i: str(i) for i in range(5)} )"
   ]
  },
  {
   "cell_type": "code",
   "execution_count": 10,
   "metadata": {},
   "outputs": [
    {
     "name": "stdout",
     "output_type": "stream",
     "text": [
      "{'cat': 2, 'bear': 3, 'dog': 1}\n"
     ]
    }
   ],
   "source": [
    "# Swap dictionary keys and vals\n",
    "dict = {1:\"dog\", 2:\"cat\", 3:\"bear\"}\n",
    "print( {value:key for key, value in dict.items()} )"
   ]
  },
  {
   "cell_type": "markdown",
   "metadata": {},
   "source": [
    "## Set Comprehensions"
   ]
  },
  {
   "cell_type": "code",
   "execution_count": 11,
   "metadata": {},
   "outputs": [
    {
     "name": "stdout",
     "output_type": "stream",
     "text": [
      "{1, 2, 3, 4, 5, 7, 8}\n"
     ]
    }
   ],
   "source": [
    "m_list = [1, 2, 2, 3, 3, 4, 5, 5, 7, 8]\n",
    "m_set = set(m_list) # Set will remove duplicates\n",
    "print(m_set)"
   ]
  },
  {
   "cell_type": "code",
   "execution_count": 12,
   "metadata": {},
   "outputs": [
    {
     "name": "stdout",
     "output_type": "stream",
     "text": [
      "{1, 2, 3, 4, 5, 7, 8}\n"
     ]
    }
   ],
   "source": [
    "# Use set comprehension\n",
    "mlist = [1, 2, 2, 3, 4, 5, 5, 7, 8]\n",
    "mset = {x for x in mlist} # Set comprehenension\n",
    "print(mset)"
   ]
  },
  {
   "cell_type": "markdown",
   "metadata": {
    "collapsed": true
   },
   "source": [
    "# Exception Handler"
   ]
  },
  {
   "cell_type": "code",
   "execution_count": 1,
   "metadata": {},
   "outputs": [
    {
     "name": "stdout",
     "output_type": "stream",
     "text": [
      "A KeyError occurred!\n",
      "The finally statement has executed!\n"
     ]
    }
   ],
   "source": [
    "dict = {\"a\":1, \"b\":2, \"c\":3}\n",
    "try:\n",
    "    value = dict[\"d\"]\n",
    "except KeyError:\n",
    "    print(\"A KeyError occurred!\")\n",
    "finally:\n",
    "    print(\"The finally statement has executed!\")"
   ]
  },
  {
   "cell_type": "code",
   "execution_count": 2,
   "metadata": {},
   "outputs": [
    {
     "name": "stdout",
     "output_type": "stream",
     "text": [
      "A KeyError occurred!\n"
     ]
    }
   ],
   "source": [
    "dict = {\"a\":1, \"b\":2, \"c\":3}\n",
    "try:\n",
    "    value = dict[\"d\"]\n",
    "except KeyError:\n",
    "    print(\"A KeyError occurred!\")\n",
    "else:\n",
    "    print(\"No error occurred!\")"
   ]
  },
  {
   "cell_type": "markdown",
   "metadata": {},
   "source": [
    "# Imports"
   ]
  },
  {
   "cell_type": "code",
   "execution_count": 3,
   "metadata": {
    "collapsed": true
   },
   "outputs": [],
   "source": [
    "import math\n",
    "from math import sqrt"
   ]
  },
  {
   "cell_type": "code",
   "execution_count": 5,
   "metadata": {
    "collapsed": true
   },
   "outputs": [],
   "source": [
    "### Shadowing\n",
    "from math import sqrt\n",
    "sqrt = 5\n",
    "# you have just changed the sqrt function into a variable that holds the value of 5"
   ]
  },
  {
   "cell_type": "markdown",
   "metadata": {},
   "source": [
    "# Functions"
   ]
  },
  {
   "cell_type": "code",
   "execution_count": 7,
   "metadata": {},
   "outputs": [
    {
     "name": "stdout",
     "output_type": "stream",
     "text": [
      "Just another func hehe\n"
     ]
    }
   ],
   "source": [
    "def a_func():\n",
    "    print(\"Just another func hehe\")\n",
    "a_func()"
   ]
  },
  {
   "cell_type": "code",
   "execution_count": 8,
   "metadata": {
    "collapsed": true
   },
   "outputs": [],
   "source": [
    "# Get away with an empty declaration\n",
    "def a_func():\n",
    "    pass \n",
    "a_func()"
   ]
  },
  {
   "cell_type": "code",
   "execution_count": 12,
   "metadata": {},
   "outputs": [
    {
     "name": "stdout",
     "output_type": "stream",
     "text": [
      "9\n"
     ]
    }
   ],
   "source": [
    "def add(a, b):\n",
    "    return a + b\n",
    "add(1, 2)\n",
    "add(a=2, b=3)\n",
    "total=add(b=4, a=5)\n",
    "print(total)"
   ]
  },
  {
   "cell_type": "code",
   "execution_count": 13,
   "metadata": {},
   "outputs": [
    {
     "data": {
      "text/plain": [
       "3"
      ]
     },
     "execution_count": 13,
     "metadata": {},
     "output_type": "execute_result"
    }
   ],
   "source": [
    "def optional_function(a=1, b=2):\n",
    "        return a+b\n",
    "optional_function()"
   ]
  },
  {
   "cell_type": "markdown",
   "metadata": {},
   "source": [
    "## *args and **kwargs"
   ]
  },
  {
   "cell_type": "code",
   "execution_count": 17,
   "metadata": {
    "collapsed": true
   },
   "outputs": [],
   "source": [
    "# To get infinite arguments, use *args and for infinite keyword arguments, use *kwargs\n",
    "# the args parameter turns into a tuple and kwargs turns into a dictionary"
   ]
  },
  {
   "cell_type": "code",
   "execution_count": 16,
   "metadata": {},
   "outputs": [
    {
     "name": "stdout",
     "output_type": "stream",
     "text": [
      "(1, 2, 3)\n",
      "{'job': 'engineer', 'name': 'Mani'}\n"
     ]
    }
   ],
   "source": [
    "def infini(*args, **kwargs):\n",
    "    print(args)\n",
    "    print(kwargs)\n",
    "infini(1, 2, 3, name=\"Mani\", job=\"engineer\")"
   ]
  },
  {
   "cell_type": "markdown",
   "metadata": {},
   "source": [
    "## Scope"
   ]
  },
  {
   "cell_type": "code",
   "execution_count": 20,
   "metadata": {
    "collapsed": true
   },
   "outputs": [],
   "source": [
    "# This will error out because a is out of scope of ex_b\n",
    "def ex_a():\n",
    "    a = 1\n",
    "    b = 2\n",
    "    return a+b\n",
    "def ex_b():\n",
    "    c = 3\n",
    "    return a+c\n",
    "\n",
    "# Get access to a, by making it global\n",
    "def ex_a():\n",
    "    global a\n",
    "    a = 1\n",
    "    b = 2\n",
    "    return a+b\n",
    "def ex_b():\n",
    "    c = 3\n",
    "    return a+c"
   ]
  },
  {
   "cell_type": "code",
   "execution_count": 24,
   "metadata": {
    "collapsed": true
   },
   "outputs": [],
   "source": [
    "### Spaghetti code"
   ]
  },
  {
   "cell_type": "code",
   "execution_count": 23,
   "metadata": {
    "collapsed": true
   },
   "outputs": [],
   "source": [
    "# Copying and pasting the same chunk of code all over is an example of spaghetti code"
   ]
  },
  {
   "cell_type": "code",
   "execution_count": null,
   "metadata": {
    "collapsed": true
   },
   "outputs": [],
   "source": []
  }
 ],
 "metadata": {
  "kernelspec": {
   "display_name": "Python 3",
   "language": "python",
   "name": "python3"
  },
  "language_info": {
   "codemirror_mode": {
    "name": "ipython",
    "version": 3
   },
   "file_extension": ".py",
   "mimetype": "text/x-python",
   "name": "python",
   "nbconvert_exporter": "python",
   "pygments_lexer": "ipython3",
   "version": "3.5.2"
  }
 },
 "nbformat": 4,
 "nbformat_minor": 2
}
