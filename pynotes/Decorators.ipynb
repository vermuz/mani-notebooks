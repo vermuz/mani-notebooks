{
 "cells": [
  {
   "cell_type": "markdown",
   "metadata": {},
   "source": [
    "### Decorators"
   ]
  },
  {
   "cell_type": "markdown",
   "metadata": {},
   "source": [
    "- A decorator in Python is a function that accepts another function as an argument.\n",
    "- The decorator will usually modify or enhance the function it accepted and return the modified function."
   ]
  },
  {
   "cell_type": "code",
   "execution_count": 3,
   "metadata": {},
   "outputs": [
    {
     "name": "stdout",
     "output_type": "stream",
     "text": [
      "1+1\n"
     ]
    }
   ],
   "source": [
    "def func_example():\n",
    "    return \"1+1\"\n",
    "\n",
    "if __name__ == \"__main__\":\n",
    "    value = func_example()\n",
    "    print(value)"
   ]
  },
  {
   "cell_type": "markdown",
   "metadata": {},
   "source": [
    "- This function accepts one argument and that argument has to be a function or callable.\n",
    "- We create one function and then pass it into a second function. \n",
    "- The second function is the decorator function. \n",
    "- The decorator will modify or enhance the function that was passed to it and return the modification. "
   ]
  },
  {
   "cell_type": "code",
   "execution_count": 8,
   "metadata": {},
   "outputs": [
    {
     "name": "stdout",
     "output_type": "stream",
     "text": [
      "1+1\n",
      "The result of 1+1 is 2\n"
     ]
    }
   ],
   "source": [
    "def a(func):\n",
    "    \"\"\" A function that accepts another function \"\"\"\n",
    "    def b():\n",
    "        val = \"The result of %s is %s\" % (func(),eval(func()))\n",
    "        return val\n",
    "    return b\n",
    "def c():\n",
    "    \"\"\"A pretty useless function\"\"\"\n",
    "    return \"1+1\"\n",
    "if __name__ == \"__main__\":\n",
    "    value = c()\n",
    "    print(value)\n",
    "    decorator = a(c)\n",
    "    print(decorator())"
   ]
  },
  {
   "cell_type": "code",
   "execution_count": 10,
   "metadata": {},
   "outputs": [
    {
     "name": "stdout",
     "output_type": "stream",
     "text": [
      "The result of 1+1 is 2\n"
     ]
    }
   ],
   "source": [
    "def a(func):\n",
    "    \"\"\" A function that accepts another function \"\"\"\n",
    "    def b():\n",
    "        val = \"The result of %s is %s\" % (func(),eval(func()))\n",
    "        return val\n",
    "    return b\n",
    "@a\n",
    "def c():\n",
    "    \"\"\"A pretty useless function\"\"\"\n",
    "    return \"1+1\"\n",
    "if __name__ == \"__main__\":\n",
    "    value = c()\n",
    "    print(value)"
   ]
  },
  {
   "cell_type": "markdown",
   "metadata": {},
   "source": [
    "### Python's built in decorators,\n",
    "- @classmethod\n",
    "- @staticmethod\n",
    "- @property"
   ]
  },
  {
   "cell_type": "code",
   "execution_count": 14,
   "metadata": {},
   "outputs": [
    {
     "name": "stdout",
     "output_type": "stream",
     "text": [
      "10\n",
      "9\n",
      "9\n",
      "8\n",
      "12\n",
      "<bound method DecoratorExample.double of <__main__.DecoratorExample object at 0x7f8545ec25c0>>\n",
      "<bound method DecoratorExample.triple of <class '__main__.DecoratorExample'>>\n",
      "<function DecoratorExample.quad at 0x7f8545f0be18>\n"
     ]
    }
   ],
   "source": [
    "class DecoratorExample(object):\n",
    "    \"\"\" Test regular method vs @classmethod vs @staticmethod \"\"\"\n",
    "    def __init__(self):\n",
    "        \"\"\" Constructor \"\"\"\n",
    "        pass\n",
    "    def double(self, x):\n",
    "        return x*2\n",
    "    @classmethod\n",
    "    def triple(klass, x):\n",
    "        return x*3\n",
    "    @staticmethod\n",
    "    def quad(x):\n",
    "        # Static method\n",
    "        return x*4\n",
    "\n",
    "    \n",
    "    \n",
    "if __name__ == \"__main__\":\n",
    "    d = DecoratorExample()\n",
    "    print(d.double(5))\n",
    "    print(d.triple(3))\n",
    "    print(DecoratorExample.triple(3))\n",
    "    print(DecoratorExample.quad(2))\n",
    "    print(d.quad(3))\n",
    "    print(d.double)\n",
    "    print(d.triple)\n",
    "    print(d.quad)"
   ]
  },
  {
   "cell_type": "markdown",
   "metadata": {},
   "source": [
    "Python Properties: \n",
    "- One of the simplest ways to use a property is to use it as a decorator of a method. \n",
    "- This allows you to turn a class method into a class attribute."
   ]
  },
  {
   "cell_type": "code",
   "execution_count": 17,
   "metadata": {},
   "outputs": [
    {
     "data": {
      "text/plain": [
       "'Mani Ali'"
      ]
     },
     "execution_count": 17,
     "metadata": {},
     "output_type": "execute_result"
    }
   ],
   "source": [
    "class Person(object):\n",
    "    def __init__(self, first_name, last_name):\n",
    "        self.first_name = first_name\n",
    "        self.last_name = last_name\n",
    "        \n",
    "    @property\n",
    "    def full_name(self):\n",
    "        return \"%s %s\" % (self.first_name, self.last_name)\n",
    "\n",
    "person = Person(\"Mani\", \"Ali\")\n",
    "person.full_name"
   ]
  },
  {
   "cell_type": "markdown",
   "metadata": {},
   "source": [
    "### Setters and Getters vs  Python property"
   ]
  },
  {
   "cell_type": "code",
   "execution_count": 19,
   "metadata": {},
   "outputs": [
    {
     "data": {
      "text/plain": [
       "Decimal('1')"
      ]
     },
     "execution_count": 19,
     "metadata": {},
     "output_type": "execute_result"
    }
   ],
   "source": [
    "from decimal import Decimal\n",
    "\n",
    "class Fees(object):\n",
    "    def __init__(self):\n",
    "        self._fee = None\n",
    "    def get_fee(self):\n",
    "        return self._fee\n",
    "    def set_fee(self, value):\n",
    "        if isinstance(value, str):\n",
    "            self._fee = Decimal(value)\n",
    "        elif isinstance(value, Decimal):\n",
    "            self._fee = value\n",
    "            \n",
    "f = Fees()\n",
    "f.set_fee(\"1\")\n",
    "f.get_fee()"
   ]
  },
  {
   "cell_type": "code",
   "execution_count": 20,
   "metadata": {},
   "outputs": [
    {
     "data": {
      "text/plain": [
       "Decimal('2')"
      ]
     },
     "execution_count": 20,
     "metadata": {},
     "output_type": "execute_result"
    }
   ],
   "source": [
    "from decimal import Decimal\n",
    "\n",
    "class Fees(object):\n",
    "    def __init__(self):\n",
    "        self._fee = None\n",
    "    def get_fee(self):\n",
    "        return self._fee\n",
    "    def set_fee(self, value):\n",
    "        if isinstance(value, str):\n",
    "            self._fee = Decimal(value)\n",
    "        elif isinstance(value, Decimal):\n",
    "            self._fee = value\n",
    "    fee = property(get_fee, set_fee)\n",
    "            \n",
    "f = Fees()\n",
    "f.set_fee(\"1\")\n",
    "f.fee\n",
    "f.fee = \"2\"\n",
    "f.get_fee()"
   ]
  },
  {
   "cell_type": "code",
   "execution_count": 21,
   "metadata": {
    "collapsed": true
   },
   "outputs": [],
   "source": [
    "from decimal import Decimal\n",
    "\n",
    "class Fees(object):\n",
    "    def __init__(self):\n",
    "        self._fee = None\n",
    "    @property\n",
    "    def fee(self):\n",
    "        return self._fee\n",
    "    @fee.setter\n",
    "    def fee(self, value):\n",
    "        if isinstance(value, str):\n",
    "            self._fee = Decimal(value)\n",
    "        elif isinstance(value, Decimal):\n",
    "            self._fee = value\n",
    "    \n",
    "if __name__ == \"__main__\":\n",
    "    f = Fees()\n",
    "    f.fee = \"1\""
   ]
  },
  {
   "cell_type": "code",
   "execution_count": null,
   "metadata": {
    "collapsed": true
   },
   "outputs": [],
   "source": []
  }
 ],
 "metadata": {
  "kernelspec": {
   "display_name": "Python 3",
   "language": "python",
   "name": "python3"
  },
  "language_info": {
   "codemirror_mode": {
    "name": "ipython",
    "version": 3
   },
   "file_extension": ".py",
   "mimetype": "text/x-python",
   "name": "python",
   "nbconvert_exporter": "python",
   "pygments_lexer": "ipython3",
   "version": "3.5.2"
  }
 },
 "nbformat": 4,
 "nbformat_minor": 2
}
